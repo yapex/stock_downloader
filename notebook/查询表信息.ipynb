{
 "cells": [
  {
   "cell_type": "code",
   "execution_count": 1,
   "id": "1c991afb",
   "metadata": {},
   "outputs": [
    {
     "name": "stdout",
     "output_type": "stream",
     "text": [
      "/Users/yapex/workspace/stock_downloader/data/metadata.db\n"
     ]
    }
   ],
   "source": [
    "from pathlib import Path\n",
    "import ibis\n",
    "from ibis import _\n",
    "from neo.helpers import normalize_stock_code\n",
    "\n",
    "# 查找 pyproject.toml 文件，来确定项目根目录\n",
    "current_dir = Path(__name__).resolve().parent\n",
    "project_dir = current_dir\n",
    "while project_dir != project_dir.parent:\n",
    "    if (project_dir / \"pyproject.toml\").exists():\n",
    "        break\n",
    "    project_dir = project_dir.parent\n",
    "else:\n",
    "    raise FileNotFoundError(\"Could not find pyproject.toml in any parent directory\")\n",
    "\n",
    "DB_PATH = project_dir / 'data/metadata.db'\n",
    "print(DB_PATH)\n",
    "con = ibis.duckdb.connect(database=DB_PATH, read_only=True)\n",
    "\n",
    "# 查看所有表\n",
    "all = con.list_tables()\n",
    "\n",
    "# 检查某股票的数据量\n",
    "def check_stock_data(con, table_name, stock_code):\n",
    "    table = con.table(table_name)\n",
    "    if 'ts_code' in table.columns:\n",
    "        expr = table.filter(_.ts_code == stock_code)\n",
    "        count = expr.count().execute()\n",
    "    else:\n",
    "        count = table.count().execute()\n",
    "\n",
    "    print(f\"股票 {stock_code}_{table_name} 有 {count} 条数据\")\n"
   ]
  },
  {
   "cell_type": "code",
   "execution_count": 2,
   "id": "3adf4d71",
   "metadata": {},
   "outputs": [
    {
     "name": "stdout",
     "output_type": "stream",
     "text": [
      "股票 000001.SZ_balance_sheet 有 100 条数据\n",
      "股票 000001.SZ_cash_flow 有 0 条数据\n",
      "股票 000001.SZ_daily_basic 有 6000 条数据\n",
      "股票 000001.SZ_income_statement 有 0 条数据\n",
      "股票 000001.SZ_stock_adj_hfq 有 0 条数据\n",
      "股票 000001.SZ_stock_basic 有 1 条数据\n",
      "股票 000001.SZ_stock_daily 有 6000 条数据\n",
      "股票 000001.SZ_trade_cal 有 153564 条数据\n"
     ]
    }
   ],
   "source": [
    "\n",
    "symbol = '000001'\n",
    "\n",
    "for t_name in all:\n",
    "    check_stock_data(con, t_name, normalize_stock_code(symbol))\n"
   ]
  }
 ],
 "metadata": {
  "kernelspec": {
   "display_name": ".venv",
   "language": "python",
   "name": "python3"
  },
  "language_info": {
   "codemirror_mode": {
    "name": "ipython",
    "version": 3
   },
   "file_extension": ".py",
   "mimetype": "text/x-python",
   "name": "python",
   "nbconvert_exporter": "python",
   "pygments_lexer": "ipython3",
   "version": "3.13.3"
  }
 },
 "nbformat": 4,
 "nbformat_minor": 5
}
