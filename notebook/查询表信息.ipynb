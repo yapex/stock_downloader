{
 "cells": [
  {
   "cell_type": "code",
   "execution_count": null,
   "id": "1c991afb",
   "metadata": {},
   "outputs": [
    {
     "name": "stdout",
     "output_type": "stream",
     "text": [
      "/Users/yapex/workspace/stock_downloader/data/metadata.db\n"
     ]
    },
    {
     "ename": "IOException",
     "evalue": "IO Error: Could not set lock on file \"/Users/yapex/workspace/stock_downloader/data/metadata.db\": Conflicting lock is held in /opt/homebrew/Cellar/python@3.13/3.13.3_1/Frameworks/Python.framework/Versions/3.13/Resources/Python.app/Contents/MacOS/Python (PID 47230) by user yapex. See also https://duckdb.org/docs/stable/connect/concurrency",
     "output_type": "error",
     "traceback": [
      "\u001b[31m---------------------------------------------------------------------------\u001b[39m",
      "\u001b[31mIOException\u001b[39m                               Traceback (most recent call last)",
      "\u001b[36mCell\u001b[39m\u001b[36m \u001b[39m\u001b[32mIn[1]\u001b[39m\u001b[32m, line 18\u001b[39m\n\u001b[32m     16\u001b[39m DB_PATH = project_dir / \u001b[33m\"\u001b[39m\u001b[33mdata/metadata.db\u001b[39m\u001b[33m\"\u001b[39m\n\u001b[32m     17\u001b[39m \u001b[38;5;28mprint\u001b[39m(DB_PATH)\n\u001b[32m---> \u001b[39m\u001b[32m18\u001b[39m con = \u001b[43mibis\u001b[49m\u001b[43m.\u001b[49m\u001b[43mduckdb\u001b[49m\u001b[43m.\u001b[49m\u001b[43mconnect\u001b[49m\u001b[43m(\u001b[49m\u001b[43mdatabase\u001b[49m\u001b[43m=\u001b[49m\u001b[43mDB_PATH\u001b[49m\u001b[43m,\u001b[49m\u001b[43m \u001b[49m\u001b[43mread_only\u001b[49m\u001b[43m=\u001b[49m\u001b[38;5;28;43;01mTrue\u001b[39;49;00m\u001b[43m)\u001b[49m\n\u001b[32m     20\u001b[39m \u001b[38;5;66;03m# 查看所有表\u001b[39;00m\n\u001b[32m     21\u001b[39m \u001b[38;5;28mall\u001b[39m = con.list_tables()\n",
      "\u001b[36mFile \u001b[39m\u001b[32m~/workspace/stock_downloader/.venv/lib/python3.13/site-packages/ibis/__init__.py:110\u001b[39m, in \u001b[36mload_backend.<locals>.connect\u001b[39m\u001b[34m(*args, **kwargs)\u001b[39m\n\u001b[32m    109\u001b[39m \u001b[38;5;28;01mdef\u001b[39;00m\u001b[38;5;250m \u001b[39m\u001b[34mconnect\u001b[39m(*args, **kwargs):\n\u001b[32m--> \u001b[39m\u001b[32m110\u001b[39m     \u001b[38;5;28;01mreturn\u001b[39;00m \u001b[43mbackend\u001b[49m\u001b[43m.\u001b[49m\u001b[43mconnect\u001b[49m\u001b[43m(\u001b[49m\u001b[43m*\u001b[49m\u001b[43margs\u001b[49m\u001b[43m,\u001b[49m\u001b[43m \u001b[49m\u001b[43m*\u001b[49m\u001b[43m*\u001b[49m\u001b[43mkwargs\u001b[49m\u001b[43m)\u001b[49m\n",
      "\u001b[36mFile \u001b[39m\u001b[32m~/workspace/stock_downloader/.venv/lib/python3.13/site-packages/ibis/backends/__init__.py:1051\u001b[39m, in \u001b[36mBaseBackend.connect\u001b[39m\u001b[34m(self, *args, **kwargs)\u001b[39m\n\u001b[32m   1027\u001b[39m \u001b[38;5;250m\u001b[39m\u001b[33;03m\"\"\"Connect to the database.\u001b[39;00m\n\u001b[32m   1028\u001b[39m \n\u001b[32m   1029\u001b[39m \u001b[33;03mParameters\u001b[39;00m\n\u001b[32m   (...)\u001b[39m\u001b[32m   1048\u001b[39m \n\u001b[32m   1049\u001b[39m \u001b[33;03m\"\"\"\u001b[39;00m\n\u001b[32m   1050\u001b[39m new_backend = \u001b[38;5;28mself\u001b[39m.\u001b[34m__class__\u001b[39m(*args, **kwargs)\n\u001b[32m-> \u001b[39m\u001b[32m1051\u001b[39m \u001b[43mnew_backend\u001b[49m\u001b[43m.\u001b[49m\u001b[43mreconnect\u001b[49m\u001b[43m(\u001b[49m\u001b[43m)\u001b[49m\n\u001b[32m   1052\u001b[39m \u001b[38;5;28;01mreturn\u001b[39;00m new_backend\n",
      "\u001b[36mFile \u001b[39m\u001b[32m~/workspace/stock_downloader/.venv/lib/python3.13/site-packages/ibis/backends/__init__.py:1066\u001b[39m, in \u001b[36mBaseBackend.reconnect\u001b[39m\u001b[34m(self)\u001b[39m\n\u001b[32m   1064\u001b[39m \u001b[38;5;250m\u001b[39m\u001b[33;03m\"\"\"Reconnect to the database already configured with connect.\"\"\"\u001b[39;00m\n\u001b[32m   1065\u001b[39m \u001b[38;5;28;01mif\u001b[39;00m \u001b[38;5;28mself\u001b[39m._can_reconnect:\n\u001b[32m-> \u001b[39m\u001b[32m1066\u001b[39m     \u001b[38;5;28;43mself\u001b[39;49m\u001b[43m.\u001b[49m\u001b[43mdo_connect\u001b[49m\u001b[43m(\u001b[49m\u001b[43m*\u001b[49m\u001b[38;5;28;43mself\u001b[39;49m\u001b[43m.\u001b[49m\u001b[43m_con_args\u001b[49m\u001b[43m,\u001b[49m\u001b[43m \u001b[49m\u001b[43m*\u001b[49m\u001b[43m*\u001b[49m\u001b[38;5;28;43mself\u001b[39;49m\u001b[43m.\u001b[49m\u001b[43m_con_kwargs\u001b[49m\u001b[43m)\u001b[49m\n\u001b[32m   1067\u001b[39m \u001b[38;5;28;01melse\u001b[39;00m:\n\u001b[32m   1068\u001b[39m     \u001b[38;5;28;01mraise\u001b[39;00m exc.IbisError(\u001b[33m\"\u001b[39m\u001b[33mCannot reconnect to unconfigured \u001b[39m\u001b[38;5;132;01m{self.name}\u001b[39;00m\u001b[33m backend\u001b[39m\u001b[33m\"\u001b[39m)\n",
      "\u001b[36mFile \u001b[39m\u001b[32m~/workspace/stock_downloader/.venv/lib/python3.13/site-packages/ibis/backends/duckdb/__init__.py:411\u001b[39m, in \u001b[36mBackend.do_connect\u001b[39m\u001b[34m(self, database, read_only, extensions, **config)\u001b[39m\n\u001b[32m    407\u001b[39m \u001b[38;5;28;01mif\u001b[39;00m \u001b[38;5;129;01mnot\u001b[39;00m \u001b[38;5;28misinstance\u001b[39m(database, Path) \u001b[38;5;129;01mand\u001b[39;00m \u001b[38;5;129;01mnot\u001b[39;00m database.startswith(\n\u001b[32m    408\u001b[39m     (\u001b[33m\"\u001b[39m\u001b[33mmd:\u001b[39m\u001b[33m\"\u001b[39m, \u001b[33m\"\u001b[39m\u001b[33mmotherduck:\u001b[39m\u001b[33m\"\u001b[39m, \u001b[33m\"\u001b[39m\u001b[33m:memory:\u001b[39m\u001b[33m\"\u001b[39m)\n\u001b[32m    409\u001b[39m ):\n\u001b[32m    410\u001b[39m     database = Path(database).absolute()\n\u001b[32m--> \u001b[39m\u001b[32m411\u001b[39m \u001b[38;5;28mself\u001b[39m.con = \u001b[43mduckdb\u001b[49m\u001b[43m.\u001b[49m\u001b[43mconnect\u001b[49m\u001b[43m(\u001b[49m\u001b[38;5;28;43mstr\u001b[39;49m\u001b[43m(\u001b[49m\u001b[43mdatabase\u001b[49m\u001b[43m)\u001b[49m\u001b[43m,\u001b[49m\u001b[43m \u001b[49m\u001b[43mconfig\u001b[49m\u001b[43m=\u001b[49m\u001b[43mconfig\u001b[49m\u001b[43m,\u001b[49m\u001b[43m \u001b[49m\u001b[43mread_only\u001b[49m\u001b[43m=\u001b[49m\u001b[43mread_only\u001b[49m\u001b[43m)\u001b[49m\n\u001b[32m    412\u001b[39m \u001b[38;5;28mself\u001b[39m._post_connect(extensions)\n",
      "\u001b[31mIOException\u001b[39m: IO Error: Could not set lock on file \"/Users/yapex/workspace/stock_downloader/data/metadata.db\": Conflicting lock is held in /opt/homebrew/Cellar/python@3.13/3.13.3_1/Frameworks/Python.framework/Versions/3.13/Resources/Python.app/Contents/MacOS/Python (PID 47230) by user yapex. See also https://duckdb.org/docs/stable/connect/concurrency"
     ]
    }
   ],
   "source": [
    "from pathlib import Path\n",
    "import ibis\n",
    "from ibis import _\n",
    "from neo.helpers import normalize_stock_code\n",
    "\n",
    "# 查找 pyproject.toml 文件，来确定项目根目录\n",
    "current_dir = Path(__name__).resolve().parent\n",
    "project_dir = current_dir\n",
    "while project_dir != project_dir.parent:\n",
    "    if (project_dir / \"pyproject.toml\").exists():\n",
    "        break\n",
    "    project_dir = project_dir.parent\n",
    "else:\n",
    "    raise FileNotFoundError(\"Could not find pyproject.toml in any parent directory\")\n",
    "\n",
    "DB_PATH = project_dir / \"data/metadata.db\"\n",
    "print(DB_PATH)\n",
    "con = ibis.duckdb.connect(database=DB_PATH, read_only=True)\n",
    "\n",
    "# 查看所有表\n",
    "all = con.list_tables()\n",
    "print(all)\n",
    "\n",
    "\n",
    "# 检查某股票的数据量\n",
    "def check_stock_data(con, table_name, stock_code):\n",
    "    table = con.table(table_name)\n",
    "    if \"ts_code\" in table.columns and stock_code:\n",
    "        stock_code = normalize_stock_code(stock_code)\n",
    "        expr = table.filter(_.ts_code == stock_code)\n",
    "        count = expr.count().execute()\n",
    "    else:\n",
    "        count = table.count().execute()\n",
    "\n",
    "    print(f\"股票 {stock_code}_{table_name} 有 {count} 条数据\")\n",
    "\n",
    "\n",
    "symbol = \"600519\"\n",
    "\n",
    "for t_name in all:\n",
    "    check_stock_data(con, t_name, symbol)\n",
    "\n",
    "con.disconnect()"
   ]
  }
 ],
 "metadata": {
  "kernelspec": {
   "display_name": ".venv",
   "language": "python",
   "name": "python3"
  },
  "language_info": {
   "codemirror_mode": {
    "name": "ipython",
    "version": 3
   },
   "file_extension": ".py",
   "mimetype": "text/x-python",
   "name": "python",
   "nbconvert_exporter": "python",
   "pygments_lexer": "ipython3",
   "version": "3.13.3"
  }
 },
 "nbformat": 4,
 "nbformat_minor": 5
}
