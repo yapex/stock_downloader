{
 "cells": [
  {
   "cell_type": "code",
   "execution_count": null,
   "id": "1c991afb",
   "metadata": {},
   "outputs": [
    {
     "name": "stdout",
     "output_type": "stream",
     "text": [
      "/Users/yapex/workspace/stock_downloader/data/metadata.db\n",
      "['balance_sheet', 'cash_flow', 'daily_basic', 'income', 'stock_adj_hfq', 'stock_basic', 'stock_daily', 'trade_cal']\n"
     ]
    }
   ],
   "source": [
    "from pathlib import Path\n",
    "import ibis\n",
    "from ibis import _\n",
    "from neo.helpers import normalize_stock_code\n",
    "\n",
    "# 查找 pyproject.toml 文件，来确定项目根目录\n",
    "current_dir = Path(__name__).resolve().parent\n",
    "project_dir = current_dir\n",
    "while project_dir != project_dir.parent:\n",
    "    if (project_dir / \"pyproject.toml\").exists():\n",
    "        break\n",
    "    project_dir = project_dir.parent\n",
    "else:\n",
    "    raise FileNotFoundError(\"Could not find pyproject.toml in any parent directory\")\n",
    "\n",
    "DB_PATH = project_dir / 'data/metadata.db'\n",
    "print(DB_PATH)\n",
    "con = ibis.duckdb.connect(database=DB_PATH, read_only=True)\n",
    "\n",
    "# 查看所有表\n",
    "all = con.list_tables()\n",
    "print(all)\n",
    "\n",
    "# 检查某股票的数据量\n",
    "def check_stock_data(con, table_name, stock_code):\n",
    "    table = con.table(table_name)\n",
    "    if 'ts_code' in table.columns:\n",
    "        expr = table.filter(_.ts_code == stock_code)\n",
    "        count = expr.count().execute()\n",
    "    else:\n",
    "        count = table.count().execute()\n",
    "\n",
    "    print(f\"股票 {stock_code}_{table_name} 有 {count} 条数据\")\n",
    "\n",
    "\n",
    "symbol = '002023'\n",
    "\n",
    "for t_name in all:\n",
    "    check_stock_data(con, t_name, normalize_stock_code(symbol))\n",
    "\n",
    "con.disconnect()"
   ]
  }
 ],
 "metadata": {
  "kernelspec": {
   "display_name": ".venv",
   "language": "python",
   "name": "python3"
  },
  "language_info": {
   "codemirror_mode": {
    "name": "ipython",
    "version": 3
   },
   "file_extension": ".py",
   "mimetype": "text/x-python",
   "name": "python",
   "nbconvert_exporter": "python",
   "pygments_lexer": "ipython3",
   "version": "3.13.3"
  }
 },
 "nbformat": 4,
 "nbformat_minor": 5
}
