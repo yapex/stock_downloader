{
 "cells": [
  {
   "cell_type": "code",
   "execution_count": null,
   "id": "1c991afb",
   "metadata": {},
   "outputs": [
    {
     "name": "stdout",
     "output_type": "stream",
     "text": [
      "/Users/yapex/workspace/stock_downloader/data/metadata.db\n",
      "['balance_sheet', 'cash_flow', 'daily_basic', 'income_statement', 'stock_basic', 'stock_daily', 'trade_cal']\n"
     ]
    },
    {
     "data": {
      "text/html": [
       "<div>\n",
       "<style scoped>\n",
       "    .dataframe tbody tr th:only-of-type {\n",
       "        vertical-align: middle;\n",
       "    }\n",
       "\n",
       "    .dataframe tbody tr th {\n",
       "        vertical-align: top;\n",
       "    }\n",
       "\n",
       "    .dataframe thead th {\n",
       "        text-align: right;\n",
       "    }\n",
       "</style>\n",
       "<table border=\"1\" class=\"dataframe\">\n",
       "  <thead>\n",
       "    <tr style=\"text-align: right;\">\n",
       "      <th></th>\n",
       "      <th>ts_code</th>\n",
       "      <th>ann_date</th>\n",
       "      <th>f_ann_date</th>\n",
       "      <th>end_date</th>\n",
       "      <th>comp_type</th>\n",
       "      <th>report_type</th>\n",
       "      <th>end_type</th>\n",
       "      <th>net_profit</th>\n",
       "      <th>finan_exp</th>\n",
       "      <th>c_fr_sale_sg</th>\n",
       "      <th>...</th>\n",
       "      <th>net_cash_rece_sec</th>\n",
       "      <th>credit_impa_loss</th>\n",
       "      <th>use_right_asset_dep</th>\n",
       "      <th>oth_loss_asset</th>\n",
       "      <th>end_bal_cash</th>\n",
       "      <th>beg_bal_cash</th>\n",
       "      <th>end_bal_cash_equ</th>\n",
       "      <th>beg_bal_cash_equ</th>\n",
       "      <th>update_flag</th>\n",
       "      <th>year</th>\n",
       "    </tr>\n",
       "  </thead>\n",
       "  <tbody>\n",
       "  </tbody>\n",
       "</table>\n",
       "<p>0 rows × 98 columns</p>\n",
       "</div>"
      ],
      "text/plain": [
       "Empty DataFrame\n",
       "Columns: [ts_code, ann_date, f_ann_date, end_date, comp_type, report_type, end_type, net_profit, finan_exp, c_fr_sale_sg, recp_tax_rends, n_depos_incr_fi, n_incr_loans_cb, n_inc_borr_oth_fi, prem_fr_orig_contr, n_incr_insured_dep, n_reinsur_prem, n_incr_disp_tfa, ifc_cash_incr, n_incr_disp_faas, n_incr_loans_oth_bank, n_cap_incr_repur, c_fr_oth_operate_a, c_inf_fr_operate_a, c_paid_goods_s, c_paid_to_for_empl, c_paid_for_taxes, n_incr_clt_loan_adv, n_incr_dep_cbob, c_pay_claims_orig_inco, pay_handling_chrg, pay_comm_insur_plcy, oth_cash_pay_oper_act, st_cash_out_act, n_cashflow_act, oth_recp_ral_inv_act, c_disp_withdrwl_invest, c_recp_return_invest, n_recp_disp_fiolta, n_recp_disp_sobu, stot_inflows_inv_act, c_pay_acq_const_fiolta, c_paid_invest, n_disp_subs_oth_biz, oth_pay_ral_inv_act, n_incr_pledge_loan, stot_out_inv_act, n_cashflow_inv_act, c_recp_borrow, proc_issue_bonds, oth_cash_recp_ral_fnc_act, stot_cash_in_fnc_act, free_cashflow, c_prepay_amt_borr, c_pay_dist_dpcp_int_exp, incl_dvd_profit_paid_sc_ms, oth_cashpay_ral_fnc_act, stot_cashout_fnc_act, n_cash_flows_fnc_act, eff_fx_flu_cash, n_incr_cash_cash_equ, c_cash_equ_beg_period, c_cash_equ_end_period, c_recp_cap_contrib, incl_cash_rec_saims, uncon_invest_loss, prov_depr_assets, depr_fa_coga_dpba, amort_intang_assets, lt_amort_deferred_exp, decr_deferred_exp, incr_acc_exp, loss_disp_fiolta, loss_scr_fa, loss_fv_chg, invest_loss, decr_def_inc_tax_assets, incr_def_inc_tax_liab, decr_inventories, decr_oper_payable, incr_oper_payable, others, im_net_cashflow_oper_act, conv_debt_into_cap, conv_copbonds_due_within_1y, fa_fnc_leases, im_n_incr_cash_equ, net_dism_capital_add, net_cash_rece_sec, credit_impa_loss, use_right_asset_dep, oth_loss_asset, end_bal_cash, beg_bal_cash, end_bal_cash_equ, beg_bal_cash_equ, update_flag, year]\n",
       "Index: []\n",
       "\n",
       "[0 rows x 98 columns]"
      ]
     },
     "execution_count": 7,
     "metadata": {},
     "output_type": "execute_result"
    }
   ],
   "source": [
    "from pathlib import Path\n",
    "import ibis\n",
    "\n",
    "# 查找 pyproject.toml 文件，来确定项目根目录\n",
    "current_dir = Path(__name__).resolve().parent\n",
    "project_dir = current_dir\n",
    "while project_dir != project_dir.parent:\n",
    "    if (project_dir / \"pyproject.toml\").exists():\n",
    "        break\n",
    "    project_dir = project_dir.parent\n",
    "else:\n",
    "    raise FileNotFoundError(\"Could not find pyproject.toml in any parent directory\")\n",
    "\n",
    "DB_PATH = project_dir / 'data/metadata.db'\n",
    "print(DB_PATH)\n",
    "con = ibis.duckdb.connect(database=DB_PATH, read_only=True)\n",
    "\n",
    "# 查看所有表\n",
    "print(con.list_tables())\n",
    "\n",
    "cash_flow = con.table('cash_flow')\n",
    "company_cash_flow = cash_flow.filter(cash_flow.ts_code == '600519.SZ')\n",
    "print(company_cash_flow.compile())\n",
    "company_cash_flow.execute()\n"
   ]
  }
 ],
 "metadata": {
  "kernelspec": {
   "display_name": ".venv",
   "language": "python",
   "name": "python3"
  },
  "language_info": {
   "codemirror_mode": {
    "name": "ipython",
    "version": 3
   },
   "file_extension": ".py",
   "mimetype": "text/x-python",
   "name": "python",
   "nbconvert_exporter": "python",
   "pygments_lexer": "ipython3",
   "version": "3.13.3"
  }
 },
 "nbformat": 4,
 "nbformat_minor": 5
}
