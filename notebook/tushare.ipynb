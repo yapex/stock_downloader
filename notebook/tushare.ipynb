{
 "cells": [
  {
   "cell_type": "code",
   "execution_count": null,
   "id": "64670ce4",
   "metadata": {},
   "outputs": [],
   "source": [
    "import os\n",
    "import tushare as ts\n",
    "from dotenv import load_dotenv\n",
    "\n",
    "load_dotenv()\n",
    "\n",
    "token = os.getenv(\"TUSHARE_TOKEN\")\n",
    "# 用 assert 确认 token 不为空\n",
    "assert token\n",
    "\n",
    "# 初始化pro接口\n",
    "ts.set_token(token=token)\n",
    "pro = ts.pro_api()\n",
    "\n",
    "# 拉取数据\n",
    "df = pro.stock_basic()\n",
    "df.head()"
   ]
  },
  {
   "cell_type": "code",
   "execution_count": null,
   "id": "642969ef",
   "metadata": {},
   "outputs": [],
   "source": [
    "df = ts.pro_bar(\n",
    "    ts_code=\"600519.SH\", start_date=\"20150118\", end_date=\"20150615\", adj=\"qfq\"\n",
    ")\n",
    "df.head()"
   ]
  }
 ],
 "metadata": {
  "kernelspec": {
   "display_name": "stock_downloader (3.13.3)",
   "language": "python",
   "name": "python3"
  },
  "language_info": {
   "codemirror_mode": {
    "name": "ipython",
    "version": 3
   },
   "file_extension": ".py",
   "mimetype": "text/x-python",
   "name": "python",
   "nbconvert_exporter": "python",
   "pygments_lexer": "ipython3",
   "version": "3.13.3"
  }
 },
 "nbformat": 4,
 "nbformat_minor": 5
}
