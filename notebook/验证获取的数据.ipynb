{
 "cells": [
  {
   "cell_type": "code",
   "execution_count": 3,
   "id": "f12b4f71",
   "metadata": {},
   "outputs": [
    {
     "name": "stdout",
     "output_type": "stream",
     "text": [
      "    ann_date  end_date report_type\n",
      "2   20250315  20241231           1\n",
      "7   20240315  20231231           1\n",
      "13  20230309  20221231           1\n",
      "18  20220310  20211231           1\n",
      "24  20210202  20201231           1\n",
      "29  20200214  20191231           1\n",
      "42  20170317  20161231           1\n",
      "46  20160310  20151231           1\n",
      "50  20150313  20141231           1\n",
      "54  20140307  20131231           1\n",
      "58  20130308  20121231           1\n",
      "62  20120309  20111231           1\n",
      "66  20110225  20101231           1\n",
      "70  20100312  20091231           1\n",
      "74  20090320  20081231           1\n",
      "78  20080320  20071231           1\n",
      "82  20070322  20061231           1\n",
      "86  20070322  20051231           1\n"
     ]
    }
   ],
   "source": [
    "from neo.app import container\n",
    "\n",
    "downloader = container.downloader()\n",
    "df = downloader.download('cash_flow', '000001')\n",
    "\n",
    "df_by_year = (\n",
    "    df[(df['end_date'].str.endswith('1231')) & (df['update_flag'] == '0')]  # 正确筛选\n",
    "    .sort_values('end_date', ascending=False)  # 按 end_date 降序排序\n",
    "    .dropna(axis=1, how='all')  # 去除所有值为 NaN 的列\n",
    ")\n",
    "\n",
    "print(df_by_year[['ann_date', 'end_date', 'report_type']])\n"
   ]
  }
 ],
 "metadata": {
  "kernelspec": {
   "display_name": ".venv",
   "language": "python",
   "name": "python3"
  },
  "language_info": {
   "codemirror_mode": {
    "name": "ipython",
    "version": 3
   },
   "file_extension": ".py",
   "mimetype": "text/x-python",
   "name": "python",
   "nbconvert_exporter": "python",
   "pygments_lexer": "ipython3",
   "version": "3.13.3"
  }
 },
 "nbformat": 4,
 "nbformat_minor": 5
}
